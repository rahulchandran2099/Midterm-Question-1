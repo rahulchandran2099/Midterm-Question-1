{
 "cells": [
  {
   "cell_type": "code",
   "execution_count": 12,
   "metadata": {
    "collapsed": false
   },
   "outputs": [
   ],
   "source": [
    "class Point:\n",
    "    def __init__(value, a=0, b=0):\n",
    "        value.a = a\n",
    "        value.b = b"
   ]
  },
  {
   "cell_type": "code",
   "execution_count": 13,
   "metadata": {
    "collapsed": false
   },
   "outputs": [
   ],
   "source": [
    "import math\n",
    "\n",
    "class Segment:\n",
    "    def __init__(value, c, d):\n",
    "        value.c = c\n",
    "        value.d = d\n",
    "        \n",
    "## To calculate and return the length of the segment\n",
    "    def length(value):\n",
    "        return math.sqrt((value.d.a - value.c.a) ** 2 + (value.d.b - value.c.b) ** 2)\n",
    "\n",
    "## To calculate and return the slope of the segment\n",
    "    def slope(value):\n",
    "        if value.c.a == value.d.a:\n",
    "            return None  # Slope is undefined for a vertical line\n",
    "        return (value.d.b - value.c.b) / (value.d.a - value.c.a)"
   ]
  },
  {
   "cell_type": "code",
   "execution_count": 14,
   "metadata": {
    "collapsed": false
   },
   "outputs": [
    {
     "name": "stdout",
     "output_type": "stream",
     "text": [
      "Length of the segment= 5.0\n",
      "Slope of the segment= 1.3333333333333333\n"
     ]
    }
   ],
   "source": [
    "a1 = Point(3, 4)\n",
    "a2 = Point()\n",
    "s = Segment(a1, a2)\n",
    "\n",
    "print(f\"Length of the segment= {s.length()}\")\n",
    "print(f\"Slope of the segment= {s.slope()}\")"
   ]
  },
  {
   "cell_type": "code",
   "execution_count": 0,
   "metadata": {
    "collapsed": false
   },
   "outputs": [
   ],
   "source": [
   ]
  }
 ],
 "metadata": {
  "kernelspec": {
   "argv": [
    "/usr/bin/python3",
    "-m",
    "ipykernel",
    "--HistoryManager.enabled=False",
    "--matplotlib=inline",
    "-c",
    "%config InlineBackend.figure_formats = set(['retina'])\nimport matplotlib; matplotlib.rcParams['figure.figsize'] = (12, 7)",
    "-f",
    "{connection_file}"
   ],
   "display_name": "Python 3 (system-wide)",
   "env": {
   },
   "language": "python",
   "metadata": {
    "cocalc": {
     "description": "Python 3 programming language",
     "priority": 100,
     "url": "https://www.python.org/"
    }
   },
   "name": "python3",
   "resource_dir": "/ext/jupyter/kernels/python3"
  },
  "language_info": {
   "codemirror_mode": {
    "name": "ipython",
    "version": 3
   },
   "file_extension": ".py",
   "mimetype": "text/x-python",
   "name": "python",
   "nbconvert_exporter": "python",
   "pygments_lexer": "ipython3",
   "version": "3.10.12"
  }
 },
 "nbformat": 4,
 "nbformat_minor": 4
}